{
 "cells": [
  {
   "cell_type": "code",
   "execution_count": 132,
   "metadata": {},
   "outputs": [],
   "source": [
    "from hyperparams import Hyperparams as hp\n",
    "import torch\n",
    "from torch import nn\n",
    "from torch.autograd import Variable\n",
    "import numpy as np"
   ]
  },
  {
   "cell_type": "code",
   "execution_count": 178,
   "metadata": {},
   "outputs": [],
   "source": [
    "dtype = torch.float\n",
    "vocab = u'''␀␃ !',-.:;?ABCDEFGHIJKLMNOPQRSTUVWXYZabcdefghijklmnopqrstuvwxyz'''\n",
    "vocab_size=len(vocab)\n",
    "embed_size=256\n",
    "har_to_ix = {char: i for i, char in enumerate(vocab)}"
   ]
  },
  {
   "cell_type": "code",
   "execution_count": 185,
   "metadata": {},
   "outputs": [],
   "source": [
    "class embedCharacters(nn.Module):\n",
    "    \"\"\"\n",
    "    input text to character embedding\n",
    "    embed 1 character to 256 embed size\n",
    "\n",
    "    \"\"\"\n",
    "    def __init__(self, vocab_size, num_units, zero_pad=True):\n",
    "        super(embedCharacters,self).__init__()\n",
    "        self.lookup_table=nn.Embedding(vocab_size, embed_size)\n",
    "        self.vocab_size=vocab_size\n",
    "        self.num_units=num_units\n",
    "        self.zero_pad=zero_pad\n",
    "\n",
    "    def forward(self,text):\n",
    "        rst = torch.empty(hp.Tx,hp.embed_size, dtype=torch.float32)  #188 : text length, 256 : char embedding\n",
    "        for idx,i in enumerate(text):\n",
    "            rst[idx]=self.lookup_table(torch.tensor(vocab.index(i), dtype=torch.long))\n",
    "        if self.zero_pad:\n",
    "            rst=torch.cat((torch.zeros(1,self.num_units),rst[1:,:]),0)\n",
    "        return rst"
   ]
  },
  {
   "cell_type": "code",
   "execution_count": 186,
   "metadata": {},
   "outputs": [],
   "source": [
    "model=embedCharacters(vocab_size, embed_size,True)"
   ]
  },
  {
   "cell_type": "code",
   "execution_count": 190,
   "metadata": {},
   "outputs": [
    {
     "data": {
      "text/plain": [
       "tensor([[ 0.0000,  0.0000,  0.0000,  ...,  0.0000,  0.0000,  0.0000],\n",
       "        [ 0.2157,  0.6055,  0.0760,  ...,  1.6288, -0.0229, -0.5634],\n",
       "        [-0.4895,  0.7159, -0.2535,  ...,  0.3294, -0.4846,  1.0012],\n",
       "        ...,\n",
       "        [ 0.0000,  0.0000,  0.0000,  ...,  0.0000,  0.0000,  0.0000],\n",
       "        [ 0.0000,  0.0000,  0.0000,  ...,  0.0000,  0.0000,  0.0000],\n",
       "        [ 0.0000,  0.0000,  0.0000,  ...,  0.0000,  0.0000,  0.0000]],\n",
       "       grad_fn=<CatBackward>)"
      ]
     },
     "execution_count": 190,
     "metadata": {},
     "output_type": "execute_result"
    }
   ],
   "source": []
  },
  {
   "cell_type": "code",
   "execution_count": 63,
   "metadata": {},
   "outputs": [
    {
     "name": "stdout",
     "output_type": "stream",
     "text": [
      "tensor([[-1.6194, -0.1937,  0.3778,  1.8502, -0.0589]], grad_fn=<EmbeddingBackward>)\n"
     ]
    }
   ],
   "source": [
    "word_to_ix = {\"hello\": 0, \"world\": 1}\n",
    "embeds = nn.Embedding(2, 5)  # 2 words in vocab, 5 dimensional embeddings\n",
    "lookup_tensor = torch.tensor([word_to_ix[\"hello\"]], dtype=torch.long)\n",
    "hello_embed = embeds(lookup_tensor)\n",
    "print(hello_embed)"
   ]
  },
  {
   "cell_type": "code",
   "execution_count": 268,
   "metadata": {},
   "outputs": [
    {
     "data": {
      "text/plain": [
       "tensor([-1.4587, -0.6070,  0.2611, -0.2758, -1.8443,  0.5966,  0.2077],\n",
       "       dtype=torch.float64)"
      ]
     },
     "execution_count": 268,
     "metadata": {},
     "output_type": "execute_result"
    }
   ],
   "source": [
    "a = torch.randn(5, 7, dtype=torch.double)\n",
    "a[1]"
   ]
  },
  {
   "cell_type": "code",
   "execution_count": 243,
   "metadata": {},
   "outputs": [
    {
     "name": "stdout",
     "output_type": "stream",
     "text": [
      "!\n"
     ]
    }
   ],
   "source": []
  },
  {
   "cell_type": "code",
   "execution_count": null,
   "metadata": {},
   "outputs": [],
   "source": []
  }
 ],
 "metadata": {
  "kernelspec": {
   "display_name": "PyTorch",
   "language": "python",
   "name": "pytorch"
  },
  "language_info": {
   "codemirror_mode": {
    "name": "ipython",
    "version": 3
   },
   "file_extension": ".py",
   "mimetype": "text/x-python",
   "name": "python",
   "nbconvert_exporter": "python",
   "pygments_lexer": "ipython3",
   "version": "3.7.1"
  }
 },
 "nbformat": 4,
 "nbformat_minor": 2
}
