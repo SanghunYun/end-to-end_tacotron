{
 "cells": [
  {
   "cell_type": "code",
   "execution_count": 1,
   "metadata": {},
   "outputs": [],
   "source": [
    "from hyperparams import Hyperparams as hp\n",
    "import torch\n",
    "from torch import nn\n",
    "from torch.autograd import Variable\n",
    "import numpy as np"
   ]
  },
  {
   "cell_type": "code",
   "execution_count": 2,
   "metadata": {},
   "outputs": [],
   "source": [
    "dtype = torch.float\n",
    "vocab = u'''␀␃ !',-.:;?ABCDEFGHIJKLMNOPQRSTUVWXYZabcdefghijklmnopqrstuvwxyz'''\n",
    "vocab_size=len(vocab)\n",
    "embed_size=256\n",
    "har_to_ix = {char: i for i, char in enumerate(vocab)}"
   ]
  },
  {
   "cell_type": "code",
   "execution_count": 185,
   "metadata": {},
   "outputs": [],
   "source": [
    "class embedCharacters(nn.Module):\n",
    "    \"\"\"\n",
    "    input text to character embedding\n",
    "    embed 1 character to 256 embed size\n",
    "\n",
    "    \"\"\"\n",
    "    def __init__(self, vocab_size, num_units, zero_pad=True):\n",
    "        super(embedCharacters,self).__init__()\n",
    "        self.lookup_table=nn.Embedding(vocab_size, embed_size)\n",
    "        self.vocab_size=vocab_size\n",
    "        self.num_units=num_units\n",
    "        self.zero_pad=zero_pad\n",
    "\n",
    "    def forward(self,text):\n",
    "        rst = torch.empty(hp.Tx,hp.embed_size, dtype=torch.float32)  #188 : text length, 256 : char embedding\n",
    "        for idx,i in enumerate(text):\n",
    "            rst[idx]=self.lookup_table(torch.tensor(vocab.index(i), dtype=torch.long))\n",
    "        if self.zero_pad:\n",
    "            rst=torch.cat((torch.zeros(1,self.num_units),rst[1:,:]),0)\n",
    "        return rst"
   ]
  },
  {
   "cell_type": "code",
   "execution_count": 186,
   "metadata": {},
   "outputs": [],
   "source": [
    "model=embedCharacters(vocab_size, embed_size,True)"
   ]
  },
  {
   "cell_type": "code",
   "execution_count": 190,
   "metadata": {},
   "outputs": [
    {
     "data": {
      "text/plain": [
       "tensor([[ 0.0000,  0.0000,  0.0000,  ...,  0.0000,  0.0000,  0.0000],\n",
       "        [ 0.2157,  0.6055,  0.0760,  ...,  1.6288, -0.0229, -0.5634],\n",
       "        [-0.4895,  0.7159, -0.2535,  ...,  0.3294, -0.4846,  1.0012],\n",
       "        ...,\n",
       "        [ 0.0000,  0.0000,  0.0000,  ...,  0.0000,  0.0000,  0.0000],\n",
       "        [ 0.0000,  0.0000,  0.0000,  ...,  0.0000,  0.0000,  0.0000],\n",
       "        [ 0.0000,  0.0000,  0.0000,  ...,  0.0000,  0.0000,  0.0000]],\n",
       "       grad_fn=<CatBackward>)"
      ]
     },
     "execution_count": 190,
     "metadata": {},
     "output_type": "execute_result"
    }
   ],
   "source": []
  },
  {
   "cell_type": "code",
   "execution_count": 63,
   "metadata": {},
   "outputs": [
    {
     "name": "stdout",
     "output_type": "stream",
     "text": [
      "tensor([[-1.6194, -0.1937,  0.3778,  1.8502, -0.0589]], grad_fn=<EmbeddingBackward>)\n"
     ]
    }
   ],
   "source": [
    "word_to_ix = {\"hello\": 0, \"world\": 1}\n",
    "embeds = nn.Embedding(2, 5)  # 2 words in vocab, 5 dimensional embeddings\n",
    "lookup_tensor = torch.tensor([word_to_ix[\"hello\"]], dtype=torch.long)\n",
    "hello_embed = embeds(lookup_tensor)\n",
    "print(hello_embed)"
   ]
  },
  {
   "cell_type": "code",
   "execution_count": 268,
   "metadata": {},
   "outputs": [
    {
     "data": {
      "text/plain": [
       "tensor([-1.4587, -0.6070,  0.2611, -0.2758, -1.8443,  0.5966,  0.2077],\n",
       "       dtype=torch.float64)"
      ]
     },
     "execution_count": 268,
     "metadata": {},
     "output_type": "execute_result"
    }
   ],
   "source": [
    "a = torch.randn(5, 7, dtype=torch.double)\n",
    "a[1]"
   ]
  },
  {
   "cell_type": "code",
   "execution_count": 8,
   "metadata": {},
   "outputs": [
    {
     "name": "stdout",
     "output_type": "stream",
     "text": [
      "tensor([[[-0.3541, -0.2125],\n",
      "         [-0.3509, -0.2105]],\n",
      "\n",
      "        [[ 0.2125,  0.3541],\n",
      "         [ 0.2105,  0.3509]]], grad_fn=<ThnnBatchNormBackward>)\n"
     ]
    }
   ],
   "source": [
    "sd=torch.tensor(np.array([[[1,2],[3,4]],[[5,6],[7,8]]]),dtype=torch.float)#(3,3,3)\n",
    "b=nn.BatchNorm1d(2)\n",
    "print(b(sd))"
   ]
  },
  {
   "cell_type": "code",
   "execution_count": 14,
   "metadata": {},
   "outputs": [
    {
     "name": "stdout",
     "output_type": "stream",
     "text": [
      "[[[1 5]\n",
      "  [3 7]]\n",
      "\n",
      " [[2 6]\n",
      "  [4 8]]]\n",
      "[[[1 2]\n",
      "  [3 4]]\n",
      "\n",
      " [[5 6]\n",
      "  [7 8]]]\n"
     ]
    }
   ],
   "source": [
    "df=np.array([[[1,2],[3,4]],[[5,6],[7,8]]])\n",
    "df=np.transpose(df,(2,1,0))\n",
    "print(df)\n",
    "df=np.transpose(df,(2,1,0))\n",
    "print(df)"
   ]
  },
  {
   "cell_type": "code",
   "execution_count": 64,
   "metadata": {},
   "outputs": [],
   "source": [
    "class bn(nn.Module):\n",
    "    def __init__(self, activation_fn=None):\n",
    "        super(bn,self).__init__()      \n",
    "\n",
    "    def forward(self, input):\n",
    "        print(input)\n",
    "        n_features=input.shape[2]\n",
    "        print(input.shape)\n",
    "        input_t=torch.transpose(input,1,2)\n",
    "        batch_norm=nn.BatchNorm1d(n_features)\n",
    "        return torch.transpose(batch_norm(input_t),2,1)"
   ]
  },
  {
   "cell_type": "code",
   "execution_count": 65,
   "metadata": {},
   "outputs": [
    {
     "name": "stdout",
     "output_type": "stream",
     "text": [
      "tensor([[[1., 2., 3.],\n",
      "         [3., 4., 6.]],\n",
      "\n",
      "        [[5., 6., 7.],\n",
      "         [7., 8., 9.]]])\n",
      "torch.Size([2, 2, 3])\n",
      "tensor([[[-0.0375, -0.5231, -0.6180],\n",
      "         [-0.0125, -0.1744, -0.0475]],\n",
      "\n",
      "        [[ 0.0125,  0.1744,  0.1426],\n",
      "         [ 0.0375,  0.5231,  0.5229]]], grad_fn=<TransposeBackward0>)\n"
     ]
    }
   ],
   "source": [
    "m=bn()\n",
    "print(m(torch.tensor(np.array([[[1,2,3],[3,4,6]],[[5,6,7],[7,8,9]]]),dtype=torch.float)))"
   ]
  },
  {
   "cell_type": "code",
   "execution_count": 67,
   "metadata": {},
   "outputs": [
    {
     "name": "stdout",
     "output_type": "stream",
     "text": [
      "1\n"
     ]
    }
   ],
   "source": [
    "print(max(int(3/2)))"
   ]
  },
  {
   "cell_type": "code",
   "execution_count": null,
   "metadata": {},
   "outputs": [],
   "source": []
  }
 ],
 "metadata": {
  "kernelspec": {
   "display_name": "PyTorch",
   "language": "python",
   "name": "pytorch"
  },
  "language_info": {
   "codemirror_mode": {
    "name": "ipython",
    "version": 3
   },
   "file_extension": ".py",
   "mimetype": "text/x-python",
   "name": "python",
   "nbconvert_exporter": "python",
   "pygments_lexer": "ipython3",
   "version": "3.7.1"
  }
 },
 "nbformat": 4,
 "nbformat_minor": 2
}
