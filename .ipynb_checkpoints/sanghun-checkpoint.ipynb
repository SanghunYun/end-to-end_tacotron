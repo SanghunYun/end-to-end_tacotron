{
 "cells": [
  {
   "cell_type": "code",
   "execution_count": 2,
   "metadata": {},
   "outputs": [],
   "source": [
    "data_path = 'C:/2018-2/LJSpeech-1.1'"
   ]
  },
  {
   "cell_type": "code",
   "execution_count": 3,
   "metadata": {},
   "outputs": [],
   "source": [
    "from hyperparams import Hyperparams as hp\n",
    "import numpy as np\n",
    "import pandas as pd\n",
    "import torch\n",
    "import torch.nn as nn\n",
    "from torch.utils.data import Dataset, DataLoader\n",
    "from utils import *\n",
    "import re\n",
    "import codecs\n",
    "import os\n",
    "import unicodedata\n",
    "import librosa"
   ]
  },
  {
   "cell_type": "code",
   "execution_count": 6,
   "metadata": {},
   "outputs": [],
   "source": [
    "def load_data(mode=\"train\"):\n",
    "    # Load vocabulary\n",
    "    char2idx, idx2char = load_vocab()\n",
    "\n",
    "    if mode == \"train\":\n",
    "        # Parse\n",
    "        fpaths, texts = [], []\n",
    "        transcript = os.path.join(hp.data, 'metadata.csv')\n",
    "        lines = codecs.open(transcript, 'r', 'utf-8').readlines()\n",
    "\n",
    "        for line in lines:\n",
    "            fname, _, text = line.strip().split(\"|\")\n",
    "            fpath = os.path.join(hp.data, \"wavs\", fname + \".wav\")\n",
    "\n",
    "            fpaths.append(fpath)\n",
    "\n",
    "            text = text_normalize(text) + \"E\" # ␃: EOS\n",
    "            text = [char2idx[char] for char in text]\n",
    "            texts.append(np.array(text, np.int32).tostring())\n",
    "        return fpaths, texts\n",
    "    else:\n",
    "        # Parse\n",
    "        lines = codecs.open(hp.test_data, 'r', 'utf-8').readlines()[1:]\n",
    "        sents = [text_normalize(line.split(\" \", 1)[-1]).strip() + u\"␃\" for line in lines]  # text normalization, E: EOS\n",
    "        texts = np.zeros((len(lines), hp.Tx), np.int32)\n",
    "        for i, sent in enumerate(sents):\n",
    "            texts[i, :len(sent)] = [char2idx[char] for char in sent]\n",
    "        return texts\n",
    "    \n",
    "def collate_fn(batch):\n",
    "    fpath = [d['wav_name'] for d in batch]\n",
    "    text = [d['text'] for d in batch]\n",
    "    wav = [d['wav'] for d in batch]\n",
    "\n",
    "    text = _prepare_data(text).astype(np.int32)\n",
    "    fname = []\n",
    "    mel = []\n",
    "    mag = []\n",
    "\n",
    "    for i in fpath:\n",
    "        fname_i, mel_i, mag_i = load_spectrograms(i)\n",
    "        fname.append(fname_i)\n",
    "        mel.append(mel_i)\n",
    "        mag.append(mag_i)\n",
    "    \n",
    "    mel = np.asarray(mel, dtype=np.float32)\n",
    "    mag = np.asarray(mag, dtype=np.float32)\n",
    "    \n",
    "    return fname, text, mel, mag\n",
    "\n",
    "def _pad_data(x, length):\n",
    "    return np.pad(x, (0, length - x.shape[0]), mode='constant', constant_values=0)\n",
    "\n",
    "def _prepare_data(inputs):\n",
    "    max_len = max((len(x) for x in inputs))\n",
    "    return np.stack([_pad_data(x, max_len) for x in inputs])\n",
    "\n",
    "def load_vocab():\n",
    "    char2idx = {char: idx for idx, char in enumerate(hp.vocab)}\n",
    "    idx2char = {idx: char for idx, char in enumerate(hp.vocab)}\n",
    "    return char2idx, idx2char\n",
    "\n",
    "def text_normalize(text):\n",
    "    text = ''.join(char for char in unicodedata.normalize('NFD', text)\n",
    "                           if unicodedata.category(char) != 'Mn') # Strip accents\n",
    "\n",
    "    text = re.sub(\"[^{}]\".format(hp.vocab), \" \", text)\n",
    "    text = re.sub(\"[ ]+\", \" \", text)\n",
    "    return text"
   ]
  },
  {
   "cell_type": "code",
   "execution_count": 7,
   "metadata": {},
   "outputs": [],
   "source": [
    "class get_Dataset(Dataset):\n",
    "    def __init__(self, csv_file, wav_file):\n",
    "        \n",
    "        self.metadata = pd.read_csv(csv_file, sep='|', header=None)\n",
    "        self.wav_file = wav_file\n",
    "    \n",
    "    def __len__(self):\n",
    "        return len(self.metadata)\n",
    "\n",
    "    def load_wav(self, filename):\n",
    "        return librosa.load(filename, sr=22050)\n",
    "\n",
    "    def __getitem__(self, idx):\n",
    "        char2idx, idx2char = load_vocab()\n",
    "                \n",
    "        wav_name = os.path.join(self.wav_file, self.metadata.iloc[idx,0]) + '.wav'\n",
    "        text = self.metadata.iloc[idx, 1]\n",
    "        text = text_normalize(text) + \"E\"\n",
    "        text = [char2idx[char] for char in text]\n",
    "\n",
    "        text = np.asarray(text, dtype=np.int32)\n",
    "        wav = np.asarray(self.load_wav(wav_name)[0], dtype=np.float32)\n",
    "        \n",
    "        sample = {'wav_name':wav_name, 'text':text, 'wav':wav}\n",
    "        return sample"
   ]
  },
  {
   "cell_type": "code",
   "execution_count": 8,
   "metadata": {},
   "outputs": [],
   "source": [
    "data = get_Dataset(os.path.join(data_path,'metadata.csv'), os.path.join(data_path,'wavs'))"
   ]
  },
  {
   "cell_type": "code",
   "execution_count": 14,
   "metadata": {},
   "outputs": [],
   "source": [
    "dataloader = DataLoader(data, batch_size=32, shuffle=False, collate_fn=collate_fn, drop_last=True)"
   ]
  },
  {
   "cell_type": "code",
   "execution_count": 17,
   "metadata": {},
   "outputs": [
    {
     "name": "stdout",
     "output_type": "stream",
     "text": [
      "<class 'list'>\n",
      "<class 'numpy.ndarray'>\n",
      "<class 'list'>\n",
      "<class 'list'>\n"
     ]
    }
   ],
   "source": [
    "for i, data in enumerate(dataloader):\n",
    "    fname, text, mel, mag = data\n",
    "    print(type(fname))\n",
    "    print(type(text))\n",
    "    print(type(mel))\n",
    "    print(type(mag))\n",
    "    \n",
    "    if i == 0 :\n",
    "        break"
   ]
  },
  {
   "cell_type": "code",
   "execution_count": null,
   "metadata": {},
   "outputs": [],
   "source": []
  }
 ],
 "metadata": {
  "kernelspec": {
   "display_name": "Python 3",
   "language": "python",
   "name": "python3"
  },
  "language_info": {
   "codemirror_mode": {
    "name": "ipython",
    "version": 3
   },
   "file_extension": ".py",
   "mimetype": "text/x-python",
   "name": "python",
   "nbconvert_exporter": "python",
   "pygments_lexer": "ipython3",
   "version": "3.6.6"
  }
 },
 "nbformat": 4,
 "nbformat_minor": 2
}
